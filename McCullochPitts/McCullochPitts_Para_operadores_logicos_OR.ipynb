{
  "nbformat": 4,
  "nbformat_minor": 0,
  "metadata": {
    "colab": {
      "provenance": [],
      "authorship_tag": "ABX9TyPjPbaF3Yn6Qpa01REcVe0Y",
      "include_colab_link": true
    },
    "kernelspec": {
      "name": "python3",
      "display_name": "Python 3"
    },
    "language_info": {
      "name": "python"
    }
  },
  "cells": [
    {
      "cell_type": "markdown",
      "metadata": {
        "id": "view-in-github",
        "colab_type": "text"
      },
      "source": [
        "<a href=\"https://colab.research.google.com/github/Wapsop/Redes-neuronales-1/blob/main/McCullochPitts_Para_operadores_logicos_OR.ipynb\" target=\"_parent\"><img src=\"https://colab.research.google.com/assets/colab-badge.svg\" alt=\"Open In Colab\"/></a>"
      ]
    },
    {
      "cell_type": "markdown",
      "source": [
        "#Redes Neuronales"
      ],
      "metadata": {
        "id": "39ZDenF6rT21"
      }
    },
    {
      "cell_type": "markdown",
      "metadata": {
        "id": "f9bb1b63"
      },
      "source": [
        "## Ejemplo McCullochPitts Para operadores logicos OR\n",
        "\n",
        "En este caso trabajamos con McCullochPitts para la tabla de verdad OR.\n",
        "\n",
        "En el ejemplo se asignan pesos de manera arbitraria para la función booleana de activación, donde se tiene:\n",
        "\n",
        "*   **y = 1** si $w_1x_1 + w_2x_2 \\geq umbral$\n",
        "*   **y = 0** si $w_1x_1 + w_2x_2 < umbral$"
      ]
    },
    {
      "cell_type": "code",
      "execution_count": 46,
      "metadata": {
        "id": "IVjLYLbqrTXQ"
      },
      "outputs": [],
      "source": [
        "#Importamos la libreria np para tranajar con operaciones de matrices\n",
        "import numpy as np\n",
        "\n",
        "# Tabla de verdad en bool para operador OR\n",
        "X = np.array([\n",
        "    [0, 0],\n",
        "    [0, 1],\n",
        "    [1, 0],\n",
        "    [1, 1]\n",
        "])\n",
        "\n",
        "# Salidas esperadas en la tabla de verdad (OR)\n",
        "Y = np.array([0, 1, 1, 1])\n",
        "\n",
        "# Pesos asignados em W\n",
        "W = [2, 2]\n",
        "\n",
        "# Umbral para la función de activación para funcionamiento, se define en 2 para los pesos w=2\n",
        "umbral = 2"
      ]
    },
    {
      "cell_type": "code",
      "source": [
        "class McCullochPitts:\n",
        "    def __init__(self, weights, umbral):\n",
        "        \"\"\"\n",
        "           Se crea la neurona llamada \"McCullochPitts\", se asignan pesos y el umbral.\n",
        "        \"\"\"\n",
        "        self.weights = weights\n",
        "        self.umbral = umbral\n",
        "\n",
        "\n",
        "    \"\"\"\n",
        "            Se calcula la salida para cada una de las x, en la operacion de tablas\n",
        "            de verdad para OR.\n",
        "    \"\"\"\n",
        "    def predict(self, X):\n",
        "\n",
        "\n",
        "      #Guardamos las salidas en una lista []\n",
        "        predictions = []\n",
        "        # Recorremos cada vector de entradas para hacer las operaciones\n",
        "        for i in range(X.shape[0]):\n",
        "            # Calculamos la suma ponderada: w1*x1 + w2*x2\n",
        "            weighted_sum = np.dot(self.weights, X[i])\n",
        "            # Mostramos en consola la entrada y la suma ponderada\n",
        "            print(f\"Input: {X[i]}, Weighted Sum: {weighted_sum}\")\n",
        "            # Se compara con la operacion w1*x1 + w2*x2, donde se activa si la suma es igual o mayor a 2\n",
        "            if weighted_sum >= self.umbral:\n",
        "                predictions.append(1)\n",
        "            else:\n",
        "                predictions.append(0)\n",
        "        return predictions"
      ],
      "metadata": {
        "id": "GNRyFxSpsHfj"
      },
      "execution_count": 51,
      "outputs": []
    },
    {
      "cell_type": "code",
      "source": [
        "# Llamamos a la clase antes creada \"McCullochPitts\", con nuestros datos W y con el umbral de la neurona para activacion\n",
        "mcp = McCullochPitts(W, umbral)\n",
        "# Se calcula la prediccion\n",
        "predictions = mcp.predict(X)\n",
        "# Se muestra el resultado\n",
        "print(\"Predictions:\", predictions)"
      ],
      "metadata": {
        "colab": {
          "base_uri": "https://localhost:8080/"
        },
        "id": "_YFAFFXBsMb7",
        "outputId": "c8f5b024-b9d8-40cf-9dd4-503c6e93b43b"
      },
      "execution_count": 50,
      "outputs": [
        {
          "output_type": "stream",
          "name": "stdout",
          "text": [
            "Input: [0 0], Weighted Sum: 0\n",
            "Input: [0 1], Weighted Sum: 2\n",
            "Input: [1 0], Weighted Sum: 2\n",
            "Input: [1 1], Weighted Sum: 4\n",
            "Predictions: [0, 1, 1, 1]\n"
          ]
        }
      ]
    }
  ]
}
