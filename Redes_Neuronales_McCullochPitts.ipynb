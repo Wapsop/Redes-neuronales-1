{
  "nbformat": 4,
  "nbformat_minor": 0,
  "metadata": {
    "colab": {
      "provenance": [],
      "authorship_tag": "ABX9TyPYM4bIcH3v0WcBlYwEcjst",
      "include_colab_link": true
    },
    "kernelspec": {
      "name": "python3",
      "display_name": "Python 3"
    },
    "language_info": {
      "name": "python"
    }
  },
  "cells": [
    {
      "cell_type": "markdown",
      "metadata": {
        "id": "view-in-github",
        "colab_type": "text"
      },
      "source": [
        "<a href=\"https://colab.research.google.com/github/Wapsop/Redes-neuronales-1/blob/main/Redes_Neuronales_McCullochPitts.ipynb\" target=\"_parent\"><img src=\"https://colab.research.google.com/assets/colab-badge.svg\" alt=\"Open In Colab\"/></a>"
      ]
    },
    {
      "cell_type": "markdown",
      "source": [
        "#Redes Neuronales McCullochPitts"
      ],
      "metadata": {
        "id": "3n_5TmGEgPCt"
      }
    },
    {
      "cell_type": "code",
      "source": [
        "import numpy as np\n",
        "# Entradas para la neurona\n",
        "X = np.array([\n",
        "    [0, 0],\n",
        "    [0, 1],\n",
        "    [1, 0],\n",
        "    [1, 1]\n",
        "])\n",
        "# Salidas\n",
        "Y = np.array([0, 0, 0, 1])\n",
        "# Pesos para las entradas\n",
        "W = [1, 2]\n",
        "# Umbral para la función de activación\n",
        "umbral = 3\n",
        "Y"
      ],
      "metadata": {
        "colab": {
          "base_uri": "https://localhost:8080/"
        },
        "id": "zTHwd8SUcccP",
        "outputId": "a36669b7-1185-471b-bcff-490cab04bd1a"
      },
      "execution_count": 9,
      "outputs": [
        {
          "output_type": "execute_result",
          "data": {
            "text/plain": [
              "array([0, 0, 0, 1])"
            ]
          },
          "metadata": {},
          "execution_count": 9
        }
      ]
    },
    {
      "cell_type": "code",
      "source": [
        "class McCullochPitts:\n",
        "    def __init__(self, weights, umbral):\n",
        "        \"\"\"\n",
        "            Constructor de la neurona MCP.\n",
        "            Guarda las variables\n",
        "            weights -> vector de pesos iniciales\n",
        "            umbral -> umbral para usar en la funcion de activación\n",
        "        \"\"\"\n",
        "        self.weights = weights\n",
        "        self.umbral = umbral\n",
        "\n",
        "    def predict(self, X):\n",
        "        \"\"\"\n",
        "            Calcula la salida de la neurona para cada fila de entradas X.\n",
        "        \"\"\"\n",
        "        # Lista donde se guardarán las salidas\n",
        "        predictions = []\n",
        "        # Recorremos cada fila de entradas\n",
        "        for i in range(X.shape[0]):\n",
        "            # Calculamos la suma ponderada: w1*x1 + w2*x2\n",
        "            weighted_sum = np.dot(self.weights, X[i])\n",
        "            # Mostramos en consola la entrada y la suma ponderada\n",
        "            print(f\"Input: {X[i]}, Weighted Sum: {weighted_sum}\")\n",
        "            # Comparación con el umbral determinar si la neurona se activa o no\n",
        "            if weighted_sum >= self.umbral:\n",
        "                predictions.append(1)\n",
        "            else:\n",
        "                predictions.append(0)\n",
        "        return predictions\n",
        "\n",
        "#Para invocarlas se necesita llamar por su nombre\n",
        "McCullochPitts = (W, umbral)"
      ],
      "metadata": {
        "id": "JRnpRq9gdtcM"
      },
      "execution_count": 10,
      "outputs": []
    },
    {
      "cell_type": "code",
      "source": [],
      "metadata": {
        "id": "8bbgWsK1f3fA"
      },
      "execution_count": 10,
      "outputs": []
    }
  ]
}