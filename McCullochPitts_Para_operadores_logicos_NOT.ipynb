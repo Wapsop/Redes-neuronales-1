{
  "nbformat": 4,
  "nbformat_minor": 0,
  "metadata": {
    "colab": {
      "provenance": [],
      "authorship_tag": "ABX9TyNwACD3O+496L1D4ERt4Pty",
      "include_colab_link": true
    },
    "kernelspec": {
      "name": "python3",
      "display_name": "Python 3"
    },
    "language_info": {
      "name": "python"
    }
  },
  "cells": [
    {
      "cell_type": "markdown",
      "metadata": {
        "id": "view-in-github",
        "colab_type": "text"
      },
      "source": [
        "<a href=\"https://colab.research.google.com/github/Wapsop/Redes-neuronales-1/blob/main/McCullochPitts_Para_operadores_logicos_NOT.ipynb\" target=\"_parent\"><img src=\"https://colab.research.google.com/assets/colab-badge.svg\" alt=\"Open In Colab\"/></a>"
      ]
    },
    {
      "cell_type": "markdown",
      "source": [
        "#Redes Neuronales"
      ],
      "metadata": {
        "id": "39ZDenF6rT21"
      }
    },
    {
      "cell_type": "markdown",
      "metadata": {
        "id": "f9bb1b63"
      },
      "source": [
        "## Ejemplo McCullochPitts Para operadores logicos NOT\n",
        "\n",
        "En este caso, implementaremos la neurona de McCulloch-Pitts para simular el comportamiento del operador lógico NOT. Este operador unario toma una sola entrada binaria (0 o 1) y produce una salida binaria que es la negación de la entrada.\n",
        "\n",
        "La función de activación de la neurona de McCulloch-Pitts se define de la siguiente manera:\n",
        "\n",
        "- **Salida (y) = 1** si la suma ponderada de las entradas es mayor o igual al umbral (w*x ≥ umbral)\n",
        "- **Salida (y) = 0** si la suma ponderada de las entradas es menor que el umbral (w*x < umbral)\n",
        "\n"
      ]
    },
    {
      "cell_type": "code",
      "execution_count": 27,
      "metadata": {
        "id": "IVjLYLbqrTXQ"
      },
      "outputs": [],
      "source": [
        "#Importamos la libreria np para tranajar con operaciones de vectores\n",
        "import numpy as np\n",
        "\n",
        "\n",
        "# Tabla de verdad de NOT (¬x)\n",
        "X = np.array([\n",
        "    [0],\n",
        "    [1]\n",
        "])\n",
        "\n",
        "# Salida esperada de NOT\n",
        "Y = np.array([1, 0])\n",
        "\n",
        "#Se trabaja con el parametro de peso -1\n",
        "W = [-1]\n",
        "umbral = 0"
      ]
    },
    {
      "cell_type": "code",
      "source": [
        "class McCullochPitts:\n",
        "    def __init__(self, weights, umbral):\n",
        "        \"\"\"\n",
        "        Constructor de la neurona\n",
        "        - weights: vector de pesos (uno por entrada)\n",
        "        - umbral: valor de activación\n",
        "        \"\"\"\n",
        "        self.weights = weights\n",
        "        self.umbral = umbral\n",
        "\n",
        "    def predict(self, X):\n",
        "\n",
        "        #Guardamos las salidas en una lista []\n",
        "        predictions = []\n",
        "        # Recorremos cada vector de entradas para hacer las operaciones\n",
        "        for i in range(X.shape[0]):\n",
        "            # Calculamos la suma: w1*x1\n",
        "            Output = np.dot(self.weights, X[i])\n",
        "            # Mostramos en consola la entrada y el resultado\n",
        "            print(f\"Input: {X[i]}, Output: {Output}\")\n",
        "            # Se compara con la operacion w*x, donde se activa si la suma es igual o mayor a 0\n",
        "            if Output >= self.umbral:\n",
        "                predictions.append(1)\n",
        "            else:\n",
        "                predictions.append(0)\n",
        "        return predictions"
      ],
      "metadata": {
        "id": "GNRyFxSpsHfj"
      },
      "execution_count": 26,
      "outputs": []
    },
    {
      "cell_type": "code",
      "source": [
        "# Llamamos a la clase antes creada \"McCullochPitts\", con nuestros datos W y con el umbral de la neurona para activacion\n",
        "mcp = McCullochPitts(W, umbral)\n",
        "# Se calcula la prediccion\n",
        "predictions = mcp.predict(X)\n",
        "# Se muestra el resultado\n",
        "print(\"Predictions:\", predictions)"
      ],
      "metadata": {
        "colab": {
          "base_uri": "https://localhost:8080/"
        },
        "id": "_YFAFFXBsMb7",
        "outputId": "5214a349-fb6a-4442-8552-8122cec807ce"
      },
      "execution_count": 25,
      "outputs": [
        {
          "output_type": "stream",
          "name": "stdout",
          "text": [
            "Input: [0], Output: 0\n",
            "Input: [1], Output: -1\n",
            "Predictions: [1, 0]\n"
          ]
        }
      ]
    }
  ]
}